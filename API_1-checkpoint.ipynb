{
 "cells": [
  {
   "cell_type": "code",
   "execution_count": 2,
   "id": "8a4dd90c-6a85-4379-bd2f-7cb50b4820c7",
   "metadata": {},
   "outputs": [],
   "source": [
    "import requests\n",
    "import json"
   ]
  },
  {
   "cell_type": "code",
   "execution_count": 6,
   "id": "17e08d87-b90e-45e2-bae5-a9cfe5a0de0a",
   "metadata": {},
   "outputs": [
    {
     "name": "stdout",
     "output_type": "stream",
     "text": [
      "{'data': {'attached_carousel_media_urls': None, 'attached_media_content': ['Photo by NASA on February 04, 2024.'], 'attached_media_display_url': 'https://scontent.cdninstagram.com/v/t51.29350-15/424971962_407070128511211_2337635853866929093_n.jpg?stp=dst-jpg_e35&efg=eyJ2ZW5jb2RlX3RhZyI6ImltYWdlX3VybGdlbi4xNDQweDk2MC5zZHIuZjI5MzUwIn0&_nc_ht=scontent.cdninstagram.com&_nc_cat=1&_nc_ohc=FIcYYJUH4twQ7kNvgFg5zCj&edm=APs17CUBAAAA&ccb=7-5&ig_cache_key=MzI5NTMzOTc4ODAwNDY0MDA1Mw%3D%3D.2-ccb7-5&oh=00_AYDLJLAt-jDc2QG5ZLpS5S6OZcisGNRkDk2N8vw1kKKG7A&oe=6652B174&_nc_sid=10d13b', 'attached_media_tagged_users': None, 'attached_video_url': None, 'coauthor_producers': None, 'comments_count': 3344, 'created_time': '2024-02-04T13:58:56', 'id': '3295339788004640053', 'is_comments_disabled': None, 'is_video': False, 'like_and_view_counts_disabled': None, 'likes_count': 1118090, 'location_id': None, 'owner_id': '528817151', 'owner_username': 'nasa', 'product_type': 'feed', 'related_posts': None, 'shortcode': 'C27ZhPmOkU1', 'sponsors': None, 'text': 'You live your life, you go in shadows 🎶\\u2063\\n\\u2063\\nOur Moon is in its waning crescent phase, where most of the sunlight is illuminating its far side – the side we can’t directly see from Earth. The waning crescent is the last phase before the lunar cycle repeats with a “new moon” phase, where it is completely obscured from Earth’s perspective.\\u2063\\n\\u2063\\nImage description: Seen from the @ISS, the Moon appears partially lit in the upper middle portion of the image. The Earth appears blue with faint white clouds in the atmosphere, stretching from the bottom left to the top right of the image. Black space surrounds the Moon.\\u2063\\n\\u2063\\nCredit: NASA\\u2063\\n\\u2063\\n#Moon #MoonPhase #ISS #NASA #Space', 'text_lang': 'en', 'text_tagged_users': ['iss'], 'text_tags': ['iss', 'moon', 'moonphase', 'nasa', 'space'], 'timestamp': 1707055136, 'video_plays_count': None, 'video_views_count': None}, 'error': None, 'status': 'ok'}\n"
     ]
    }
   ],
   "source": [
    "# getting perticular post_id data\n",
    "post_id = \"C27ZhPmOkU1\"\n",
    "api_endpoint = f\"https://api.data365.co/v1.1/instagram/post/{post_id}\"\n",
    "payload = {\n",
    "    \"load_comments\": True,\n",
    "    \"max_comments\": 50,\n",
    "    \"load_replies\": True,\n",
    "    \"load_accessibility_caption\": True,\n",
    "    \"callback_url\": \"https://yourwebhookurl.com\",\n",
    "    \"auto_update_interval\": 3600,\n",
    "    \"auto_update_expire_at\": \"2024-06-30T00:00:00\",\n",
    "}\n",
    "access_token = \"ZXlKMGVYQWlPaUpLVjFRaUxDSmhiR2NpT2lKSVV6STFOaUo5LmV5SnpkV0lpT2lKUVpYSnBlbVZ5SWl3aWFXRjBJam94TnpFMk9Ea3pNelV6TGpnMU16azFOeko5LmZoSXFVeGRRWnJJS0ZhRVRGSm9LN1BiUjJBTlpNeUNuTlJiVm5jR04yQm8=\"\n",
    "params = {\"access_token\": access_token}\n",
    " \n",
    "response = requests.get(api_endpoint,params=params, payload = payload)\n",
    " \n",
    "print(response.json())\n"
   ]
  },
  {
   "cell_type": "code",
   "execution_count": 6,
   "id": "a7883e18-1101-44fb-857b-77c8b8ba206b",
   "metadata": {},
   "outputs": [
    {
     "name": "stdout",
     "output_type": "stream",
     "text": [
      "{'data': {'about_account': None, 'age_approx': None, 'age_group': None, 'biography': '🚀 🌎  Exploring the universe and our home planet. Verification: nasa.gov/socialmedia', 'business_category': ['Government Agencies'], 'external_url': 'https://www.nasa.gov', 'followers_count': 98054023, 'followings_count': 76, 'full_name': 'NASA', 'gender': None, 'highlight_reels_count': 6, 'id': '528817151', 'is_business_account': True, 'is_joined_recently': False, 'is_private': False, 'is_verified': True, 'langs': ['en'], 'last_update': 1716858228, 'latest_location_id': None, 'posts_count': 4198, 'profile_avatar_url': 'https://data365media.blob.core.windows.net/media/instagram/profiles/528817151/29090066_159271188110124_1152068159029641216_n.jpg', 'profile_photo_url': 'https://instagram.fiev22-2.fna.fbcdn.net/v/t51.2885-19/29090066_159271188110124_1152068159029641216_n.jpg?stp=dst-jpg_e0_s150x150&_nc_ht=instagram.fiev22-2.fna.fbcdn.net&_nc_cat=1&_nc_ohc=VvoArR61cwUQ7kNvgF9RyXo&edm=AOQ1c0wBAAAA&ccb=7-5&oh=00_AYB1KQaJdQw8dAH9lBhdYJlgT4S5beWM33KglQlWF_tLtA&oe=665F39E9&_nc_sid=8b3546', 'profile_photo_url_hd': 'https://instagram.fiev22-1.fna.fbcdn.net/v/t51.2885-19/29090066_159271188110124_1152068159029641216_n.jpg?stp=dst-jpg_s320x320&_nc_ht=instagram.fiev22-1.fna.fbcdn.net&_nc_cat=1&_nc_ohc=3VsxKvrsM0wQ7kNvgFmoJ6P&edm=AOQ1c0wBAAAA&ccb=7-5&oh=00_AYCYbAK-C8Q75oZuLowLAt1uAhvAYKHG1cKB4NUj2p1How&oe=665B0D29&_nc_sid=8b3546', 'profile_screenshot_url': None, 'public_email': 'public-inquiries@hq.nasa.gov', 'public_phone_country_code': None, 'public_phone_number': None, 'username': 'nasa'}, 'error': None, 'status': 'ok'}\n"
     ]
    }
   ],
   "source": [
    "# getting profile data\n",
    "import requests\n",
    "\n",
    "profile_id = \"528817151\"\n",
    "api_endpoint = f\"https://api.data365.co/v1.1/instagram/profile/{profile_id}\"\n",
    "access_token = \"ZXlKMGVYQWlPaUpLVjFRaUxDSmhiR2NpT2lKSVV6STFOaUo5LmV5SnpkV0lpT2lKUVpYSnBlbVZ5SWl3aWFXRjBJam94TnpFMk9Ea3pNelV6TGpnMU16azFOeko5LmZoSXFVeGRRWnJJS0ZhRVRGSm9LN1BiUjJBTlpNeUNuTlJiVm5jR04yQm8=\"\n",
    "params = {\n",
    "    \"access_token\": access_token,\n",
    "    \"load_comments\": True,\n",
    "    \"max_comments\": 50,\n",
    "    \"load_replies\": True,\n",
    "    \"load_accessibility_caption\": True,\n",
    "    \"callback_url\": \"https://yourwebhookurl.com\",\n",
    "    \"auto_update_interval\": 3600,\n",
    "    \"auto_update_expire_at\": \"2024-06-30T00:00:00\",\n",
    "}\n",
    "\n",
    "response = requests.get(api_endpoint, params=params)\n",
    "\n",
    "print(response.json())"
   ]
  },
  {
   "cell_type": "code",
   "execution_count": 8,
   "id": "75370d66-ae60-443b-bcf2-e9331d7145cd",
   "metadata": {},
   "outputs": [
    {
     "name": "stdout",
     "output_type": "stream",
     "text": [
      "{'data': {'items': [{'attached_carousel_media_urls': None, 'attached_media_content': None, 'attached_media_display_url': 'https://instagram.flwo4-2.fna.fbcdn.net/v/t51.2885-15/271023176_1307738766396750_88187530282978477_n.jpg?stp=dst-jpg_e35_s1080x1080&_nc_ht=instagram.flwo4-2.fna.fbcdn.net&_nc_cat=106&_nc_ohc=1cKsHrwVzQQAX8CZiAt&edm=APU89FABAAAA&ccb=7-4&oh=00_AT8r-Oqog6zDjooEjsw2L7Qx7JzzGw029lOEyP8-etzJfw&oe=62840F13&_nc_sid=86f79a', 'attached_media_tagged_users': None, 'attached_video_url': None, 'coauthor_producers': None, 'comments_count': 2394, 'created_time': '2022-01-01T18:45:39', 'id': '2741755437130224529', 'is_comments_disabled': False, 'is_video': False, 'like_and_view_counts_disabled': None, 'likes_count': 755180, 'location_id': None, 'owner_id': '528817151', 'owner_username': None, 'product_type': None, 'related_posts': None, 'shortcode': 'CYMrAsrJJOR', 'sponsors': None, 'text': 'Happy New Year... from space!\\n\\nThis orbital sunrise was taken from the cupola windows of the International Space Station last January. No matter where on Earth you are, we hope that your 2022 is truly out-of-this-world.\\n\\nCredit: NASA\\n\\n#NASA #Space #SpaceStation #HappyNewYear #2022', 'text_lang': 'en', 'text_tagged_users': None, 'text_tags': ['2022', 'happynewyear', 'nasa', 'space', 'spacestation'], 'timestamp': 1641062739, 'video_plays_count': None, 'video_views_count': None}, {'attached_carousel_media_urls': None, 'attached_media_content': None, 'attached_media_display_url': 'https://instagram.flwo4-1.fna.fbcdn.net/v/t51.2885-15/270938254_1032387790673525_8354522076257428187_n.jpg?stp=dst-jpg_e35_s1080x1080&_nc_ht=instagram.flwo4-1.fna.fbcdn.net&_nc_cat=105&_nc_ohc=gMOE4HIH114AX_J0Yw7&edm=APU89FABAAAA&ccb=7-4&oh=00_AT-R80gxbbgaap9ZDgo-eNh9AR6wgno1KTfVr-xSvWNAng&oe=62842C58&_nc_sid=86f79a', 'attached_media_tagged_users': None, 'attached_video_url': None, 'coauthor_producers': None, 'comments_count': 3226, 'created_time': '2022-01-02T20:26:28', 'id': '2742530958344692414', 'is_comments_disabled': False, 'is_video': False, 'like_and_view_counts_disabled': None, 'likes_count': 1043074, 'location_id': None, 'owner_id': '528817151', 'owner_username': None, 'product_type': None, 'related_posts': None, 'shortcode': 'CYPbWBFpaK-', 'sponsors': None, 'text': \"🌍 When Earth looks like another world\\n\\nIf it weren't for the blue sea on the horizon, this might look like a photo of Mars or a faraway planet from science fiction. Instead, it's actually an image of the Libyan Desert, one of the most arid parts of the Sahara Desert in northern Africa.\\n\\nTaken by an External High-Definition Camera (EHDC) on the International Space Station in February 2021, this photograph shows the windswept dunes and darker sandstone plateaus of Libya's Fezzan region, with the Mediterranean shining in the far distance. The EHDC is one of many cameras and scientific instruments on the @ISS that are continually monitoring the Earth from space—not just to take incredible pictures like this one, but to observe our environment and help us protect our home planet.\\n\\nCredit: NASA\\n\\n#NASA #Space #Earth #SpacePhotography #SpaceStation #Libya #Sahara\", 'text_lang': 'en', 'text_tagged_users': ['iss'], 'text_tags': ['earth', 'libya', 'nasa', 'sahara', 'space', 'spacephotography', 'spacestation'], 'timestamp': 1641155188, 'video_plays_count': None, 'video_views_count': None}, {'attached_carousel_media_urls': None, 'attached_media_content': None, 'attached_media_display_url': 'https://instagram.flwo4-1.fna.fbcdn.net/v/t51.2885-15/271259823_463352941982905_1111646564443204729_n.jpg?stp=dst-jpg_e35&_nc_ht=instagram.flwo4-1.fna.fbcdn.net&_nc_cat=101&_nc_ohc=9F3aEDB0iBQAX9Xfvge&edm=APU89FABAAAA&ccb=7-4&oh=00_AT9RhEzJqtajwMdGTBhOSMOvPpROMOLEYp8I_iMzqoVdKA&oe=627F91CA&_nc_sid=86f79a', 'attached_media_tagged_users': None, 'attached_video_url': 'https://instagram.flwo4-2.fna.fbcdn.net/v/t50.16885-16/10000000_336871084958592_4093644590949056289_n.mp4?efg=eyJ2ZW5jb2RlX3RhZyI6InZ0c192b2RfdXJsZ2VuLjEyODAuaWd0di5iYXNlbGluZSIsInFlX2dyb3VwcyI6IltcImlnX3dlYl9kZWxpdmVyeV92dHNfb3RmXCJdIn0&_nc_ht=instagram.flwo4-2.fna.fbcdn.net&_nc_cat=100&_nc_ohc=o0kaNbAya5wAX8ZGkB5&edm=APU89FABAAAA&vs=983650615839741_455043371&_nc_vs=HBksFQAYJEdJQ1dtQUNBbzFycFlUSUJBQ0ctTndBUmpNODRidlZCQUFBRhUAAsgBABUAGCRHRFZETFJCNndRXzBZUmNEQUFDVFFRbzltSmhhYnZWQkFBQUYVAgLIAQAoABgAGwGIB3VzZV9vaWwBMRUAACbwo7KL5ZvgPxUCKAJDMywXQGLEQYk3S8cYEmRhc2hfYmFzZWxpbmVfMV92MREAdewHAA%3D%3D&_nc_rid=e0ba1c398d&ccb=7-4&oe=627F4A3F&oh=00_AT-1DlG28VEewxVD_9Bg9OtdQO3nE9QbcAW9C4eSLrMADg&_nc_sid=86f79a', 'coauthor_producers': None, 'comments_count': 1103, 'created_time': '2022-01-03T19:12:21', 'id': '2743216566567712919', 'is_comments_disabled': False, 'is_video': True, 'like_and_view_counts_disabled': None, 'likes_count': 186733, 'location_id': None, 'owner_id': '528817151', 'owner_username': None, 'product_type': 'igtv', 'related_posts': None, 'shortcode': 'CYR3O7gPDiX', 'sponsors': None, 'text': \"We have New Year's resolutions just like you 😉 \\r\\r1️⃣ Getting a new perspective:\\rReceiving the first images from @NASAWebb \\r\\r2️⃣ Traveling more: \\rSending the first uncrewed @NASAArtemis mission around the Moon and back to Earth \\r\\r3️⃣ Sticking to a routine: \\rAlong with our industry partners, we will be sending NASA science and technology to the surface of the Moon regularly\\r\\r4️⃣ Listening more: \\rWe will be flying our first quiet, supersonic plane\\r\\r\\r👀 Check out some of our big plans for 2022 \\r\\r\\rCredit: NASA/Producer/Editor: Lacey Young \\rMusic: Universal Production Music\\r\\r#NASA #NewYears #2022 #ReadyForLaunch #Science #Space #Missions\", 'text_lang': 'en', 'text_tagged_users': ['nasaartemis', 'nasawebb'], 'text_tags': ['2022', 'missions', 'nasa', 'newyears', 'readyforlaunch', 'science', 'space'], 'timestamp': 1641237141, 'video_plays_count': None, 'video_views_count': 1329107}, {'attached_carousel_media_urls': None, 'attached_media_content': None, 'attached_media_display_url': 'https://instagram.flwo4-2.fna.fbcdn.net/v/t51.2885-15/271207984_302543241817122_4106088057155818482_n.jpg?stp=dst-jpg_e35&_nc_ht=instagram.flwo4-2.fna.fbcdn.net&_nc_cat=106&_nc_ohc=A6wdDX_O4IAAX9YbvTa&edm=APU89FABAAAA&ccb=7-4&oh=00_AT-o1GCVYjLD9Pf3yDnPKqr1k2xQr1Doyy_6-JEQi4Ra9w&oe=6283D043&_nc_sid=86f79a', 'attached_media_tagged_users': None, 'attached_video_url': None, 'coauthor_producers': None, 'comments_count': 3842, 'created_time': '2022-01-04T22:55:03', 'id': '2744055289667246584', 'is_comments_disabled': False, 'is_video': False, 'like_and_view_counts_disabled': None, 'likes_count': 1327161, 'location_id': None, 'owner_id': '528817151', 'owner_username': None, 'product_type': None, 'related_posts': None, 'shortcode': 'CYU179Qpdn4', 'sponsors': None, 'text': 'Taking Jupiter by storm 🌀\\r\\rTwo large rotating storms brew on Jupiter’s surface in this image captured by @NASASolarSystem Juno spacecraft’s visible-light imager, JunoCam, on Juno’s 38th pass at about 3,815 miles (6,140 km) altitude.\\r\\rBright “pop-up” clouds are visible above the lower storm, casting shadows on the cloud bank below. As small as they appear in comparison to the large storm below, these clouds are typically 31 miles (50 km) across. \\r\\rCredit: NASA/JPL-Caltech/SwRI/MSSS\\rImage processing: Kevin M. Gill CC BY\\r\\r\\r#NASA #Jupiter #Stormy #Space #SolarSystem #JunoCam #NASAJuno', 'text_lang': 'en', 'text_tagged_users': ['nasasolarsystem'], 'text_tags': ['junocam', 'jupiter', 'nasa', 'nasajuno', 'solarsystem', 'space', 'stormy'], 'timestamp': 1641336903, 'video_plays_count': None, 'video_views_count': None}, {'attached_carousel_media_urls': None, 'attached_media_content': None, 'attached_media_display_url': 'https://instagram.flwo4-2.fna.fbcdn.net/v/t51.2885-15/271298130_629933888056910_1277694486670283048_n.jpg?stp=dst-jpg_e35_s1080x1080&_nc_ht=instagram.flwo4-2.fna.fbcdn.net&_nc_cat=102&_nc_ohc=rbahH-uIEQMAX9RClB1&edm=APU89FABAAAA&ccb=7-4&oh=00_AT8bMuipXhyrPGNwr2iteWzus6VOq_8BzYXIH07Q6QB9og&oe=6283756C&_nc_sid=86f79a', 'attached_media_tagged_users': None, 'attached_video_url': None, 'coauthor_producers': None, 'comments_count': 1922, 'created_time': '2022-01-05T22:28:17', 'id': '2744766591012391687', 'is_comments_disabled': False, 'is_video': False, 'like_and_view_counts_disabled': None, 'likes_count': 728562, 'location_id': None, 'owner_id': '528817151', 'owner_username': None, 'product_type': None, 'related_posts': None, 'shortcode': 'CYXXqwQp0sH', 'sponsors': None, 'text': \"🛰️ Orbiting above a winter wonderland\\n\\nAfter an unseasonably warm weekend across the eastern United States, a winter storm dumped a blanket of heavy snow across the Mid-Atlantic region and points west. \\n\\nThis image of the storm's aftermath was taken on Jan. 4, 2022, by MODIS, the Moderate Resolution Imaging Spectroradiometer onboard NASA's Terra satellite. Terra has been orbiting above Earth since 1999, carrying five scientific instruments from the U.S., Japan and Canada to help us observe and understand our planet.\\n\\nCredit: @NASAEarth/Joshua Stevens/MODIS\\n\\n#NASA #Earth #Winter #SatelliteImagery #LetItSnow #LetItStopSnowing\", 'text_lang': 'en', 'text_tagged_users': ['nasaearth'], 'text_tags': ['earth', 'letitsnow', 'letitstopsnowing', 'nasa', 'satelliteimagery', 'winter'], 'timestamp': 1641421697, 'video_plays_count': None, 'video_views_count': None}, {'attached_carousel_media_urls': None, 'attached_media_content': None, 'attached_media_display_url': 'https://instagram.flwo4-2.fna.fbcdn.net/v/t51.2885-15/271350700_2660194107460236_5310222688222012854_n.jpg?stp=dst-jpg_e35&_nc_ht=instagram.flwo4-2.fna.fbcdn.net&_nc_cat=100&_nc_ohc=tXfZRzlzYIYAX9vGLli&edm=APU89FABAAAA&ccb=7-4&oh=00_AT94L8MORsaySAu2QfuhHyltq6tFZdpfcm0YxtXXYDheTw&oe=62846DA0&_nc_sid=86f79a', 'attached_media_tagged_users': None, 'attached_video_url': None, 'coauthor_producers': None, 'comments_count': 3644, 'created_time': '2022-01-07T21:27:43', 'id': '2746185660437503758', 'is_comments_disabled': False, 'is_video': False, 'like_and_view_counts_disabled': None, 'likes_count': 1103134, 'location_id': None, 'owner_id': '528817151', 'owner_username': None, 'product_type': None, 'related_posts': None, 'shortcode': 'CYcaU7pph8O', 'sponsors': None, 'text': \"It’s all about perspective 👓\\r\\rNot to worry, it only looks like these galaxies are colliding from a certain point of view. In reality these galaxies are millions of light-years away from each other.\\r\\t\\rCaptured by @NASAHubble’s Wide Field Camera 3, a galaxy located in the constellation Pisces is home to two interesting astronomical events: a Cepheid variable star that brightens and dims regularly and a cataclysmic supernova explosion that's the death of a massive star. Because both astronomical events have predictable luminosities, they help astronomers measure how fast our universe is expanding\\r\\t\\rCredit: NASA/@EuropeanSpaceAgency/Hubble, D. Jones, A. Riess et al.; Acknowledgment: R. Colombari\\r\\r#NASA #Hubble #Space #Galaxy #Cosmos #Astronomy #Astrophotography #Universe #Stars\", 'text_lang': 'en', 'text_tagged_users': ['europeanspaceagency', 'nasahubble'], 'text_tags': ['astronomy', 'astrophotography', 'cosmos', 'galaxy', 'hubble', 'nasa', 'space', 'stars', 'universe'], 'timestamp': 1641590863, 'video_plays_count': None, 'video_views_count': None}, {'attached_carousel_media_urls': None, 'attached_media_content': None, 'attached_media_display_url': 'https://instagram.flwo4-2.fna.fbcdn.net/v/t51.2885-15/271495219_2782192678742690_7769934638703030039_n.jpg?stp=dst-jpg_e35_p1080x1080&_nc_ht=instagram.flwo4-2.fna.fbcdn.net&_nc_cat=102&_nc_ohc=k7QXCpVW6-sAX9EdHpw&edm=APU89FABAAAA&ccb=7-4&oh=00_AT9aT90A3k3Q595jKuMQsJeY7wEmPWq6POCuX6rbOw1owg&oe=6282EAC3&_nc_sid=86f79a', 'attached_media_tagged_users': ['nasagoddard', 'nasawebb', 'space_telescopes'], 'attached_video_url': None, 'coauthor_producers': None, 'comments_count': 8310, 'created_time': '2022-01-08T20:15:50', 'id': '2746874256236626289', 'is_comments_disabled': False, 'is_video': False, 'like_and_view_counts_disabled': None, 'likes_count': 1554621, 'location_id': None, 'owner_id': '528817151', 'owner_username': None, 'product_type': None, 'related_posts': None, 'shortcode': 'CYe25UdpkFx', 'sponsors': ['nasagoddard', 'nasawebb', 'space_telescopes'], 'text': \"😎 Livin’ our life like it's golden.\\r\\rToday, @NASAWebb’s iconic honeycomb mirror took its final shape in space, marking the end of the most complex space telescope deployment in history! Swipe for a behind-the-scenes look at some of the team members who made this moment happen – from cleanrooms at @NASAGoddard to mission control at @Space_Telescopes.\\r\\rMade out of beryllium and coated in gold, Webb’s primary mirror is designed to help us see back to some of the first galaxies after the Big Bang. This is the largest and most advanced telescope we’ve ever put into space. Webb’s revolutionary technology will study about 13.5 billion years of cosmic history and help humanity understand our place in the stars.\\r\\rWebb is an international effort between NASA, the @europeanspaceagency, and the @canadianspaceagency. After 20+ years of work, it is well on its million mile (1.5 million kilometers) journey to #UnfoldTheUniverse.\\r\\r📲 Excited about today? Tell us why! Head to our story to try the “Webb’s Golden Glow” effect and tag us to share your thoughts.\\r \\rCredit: NASA/Chris Gunn (image 1), NASA/David Higginbotham (image 2), NASA/Chris Gunn (images 3-5), NASA/Bill Ingalls (images 6-9) \\r \\r#Astrophotography #Stargazer #Space #Universe #Explore #OTD #NASA #Stars #SolarSystem #Golden\", 'text_lang': 'en', 'text_tagged_users': ['canadianspaceagency.', 'europeanspaceagency', 'nasagoddard', 'nasawebb', 'space_telescopes.'], 'text_tags': ['astrophotography', 'explore', 'golden', 'nasa', 'otd', 'solarsystem', 'space', 'stargazer', 'stars', 'unfoldtheuniverse', 'universe'], 'timestamp': 1641672950, 'video_plays_count': None, 'video_views_count': None}, {'attached_carousel_media_urls': None, 'attached_media_content': None, 'attached_media_display_url': 'https://instagram.flwo4-1.fna.fbcdn.net/v/t51.2885-15/271559175_1263513117485771_4369430989016241254_n.jpg?stp=dst-jpg_e35_s1080x1080&_nc_ht=instagram.flwo4-1.fna.fbcdn.net&_nc_cat=111&_nc_ohc=CAjnFvoTU5MAX8t8i14&edm=APU89FABAAAA&ccb=7-4&oh=00_AT-JYgjHOyLtqp-UjUe8LjWU-sUghu2jGp8hiIcbX2VqQw&oe=6284360F&_nc_sid=86f79a', 'attached_media_tagged_users': None, 'attached_video_url': None, 'coauthor_producers': None, 'comments_count': 3152, 'created_time': '2022-01-09T15:28:05', 'id': '2747454206417750372', 'is_comments_disabled': False, 'is_video': False, 'like_and_view_counts_disabled': None, 'likes_count': 721185, 'location_id': None, 'owner_id': '528817151', 'owner_username': None, 'product_type': None, 'related_posts': None, 'shortcode': 'CYg6wtKLslk', 'sponsors': None, 'text': \"🌊 Taking a stroll by the ocean\\n\\nWhile on a spacewalk outside the International Space Station, NASA's @AstroMarshburn took this eye-catching photo of the Caribbean Sea from below the Japan Aerospace Exploration Agency external experiment platform.\\n\\nMarshburn, already a veteran of two spaceflights, started his latest @ISS stay on November 11, 2021 as part of our six-month @SpaceX Crew-3 mission. Marshburn is one of seven astronauts and cosmonauts currently living and working on the station.\\n\\nCredit: NASA/Thomas H. Marshburn\\n\\n#NASA #Space #ISS #SpaceStation #Earth #Caribbean #CaribbeanSea\", 'text_lang': 'en', 'text_tagged_users': ['astromarshburn', 'iss', 'spacex'], 'text_tags': ['caribbean', 'caribbeansea', 'earth', 'iss', 'nasa', 'space', 'spacestation'], 'timestamp': 1641742085, 'video_plays_count': None, 'video_views_count': None}, {'attached_carousel_media_urls': None, 'attached_media_content': None, 'attached_media_display_url': 'https://instagram.flwo4-2.fna.fbcdn.net/v/t51.2885-15/271516725_902196830499496_6287846307412855248_n.jpg?stp=dst-jpg_e35_s1080x1080&_nc_ht=instagram.flwo4-2.fna.fbcdn.net&_nc_cat=104&_nc_ohc=RfN3tlSXUhMAX9JAfnV&edm=APU89FABAAAA&ccb=7-4&oh=00_AT-sMltWBWU4WDf1jtDkTgrISboaiemlnif-uHuswl9fiA&oe=6284B9C2&_nc_sid=86f79a', 'attached_media_tagged_users': None, 'attached_video_url': None, 'coauthor_producers': None, 'comments_count': 6827, 'created_time': '2022-01-10T19:50:06', 'id': '2748310854027195648', 'is_comments_disabled': False, 'is_video': False, 'like_and_view_counts_disabled': None, 'likes_count': 1835117, 'location_id': None, 'owner_id': '528817151', 'owner_username': None, 'product_type': None, 'related_posts': None, 'shortcode': 'CYj9ikapDUA', 'sponsors': None, 'text': 'Chandra, I’m ready for my close-up 🔭\\r \\rThis supernova remnant was produced by the explosion of a massive star. With help from @NASAChandraXray, astronomers have been able to confirm that most oxygen in the universe comes from explosions like we see here. The amount of oxygen generated from this explosion could fuel thousands of solar systems. \\r \\rCredit: X-ray (NASA/CXC/ESO/F.Vogt et al); Optical (ESO/VLT/MUSE), Optical (NASA/STScI)\\r \\r\\r#NASA #Stars #Supernova #Astronomy #Universe #Cosmos #Space', 'text_lang': 'en', 'text_tagged_users': ['nasachandraxray'], 'text_tags': ['astronomy', 'cosmos', 'nasa', 'space', 'stars', 'supernova', 'universe'], 'timestamp': 1641844206, 'video_plays_count': None, 'video_views_count': None}, {'attached_carousel_media_urls': None, 'attached_media_content': None, 'attached_media_display_url': 'https://instagram.flwo4-1.fna.fbcdn.net/v/t51.2885-15/271823702_248316460763917_8551382464016743106_n.jpg?stp=dst-jpg_e35&_nc_ht=instagram.flwo4-1.fna.fbcdn.net&_nc_cat=101&_nc_ohc=VcbjxbFb7BgAX-9uLj1&edm=APU89FABAAAA&ccb=7-4&oh=00_AT9WKH-GcZoSHg3hWBio0isZSMPg_XRFy3y5WsrVliWzeQ&oe=62833F49&_nc_sid=86f79a', 'attached_media_tagged_users': None, 'attached_video_url': None, 'coauthor_producers': None, 'comments_count': 3066, 'created_time': '2022-01-12T00:34:24', 'id': '2749178696335916181', 'is_comments_disabled': False, 'is_video': False, 'like_and_view_counts_disabled': None, 'likes_count': 1063660, 'location_id': None, 'owner_id': '528817151', 'owner_username': None, 'product_type': None, 'related_posts': None, 'shortcode': 'CYnC3VjLHyV', 'sponsors': None, 'text': \"Here we have some happy little clouds and a happy little volcano. 🌥🌋\\n\\nItaly's Mount Vesuvius breaks through the clouds, as captured by Earth-observing satellite Landsat 8. The the only active volcano on mainland Europe, Vesuvius and was regarded by the ancient Romans as being sacred to the demigod Hercules, son of Jupiter. Because of its proximity to heavily-populated Naples, Vesuvius is closely monitored by a volcanological observatory, which happens to be the world’s first. By dating lava samples, scientists have been able to determine that the volcano has had eight major eruptions, the most recent occurring in 1944. \\n\\nCredits: NASA/Joshua Stevens, using Landsat data from the U.S. Geological Survey\\n\\n#NASA #Earth #SatelliteImagery #EarthViews #Italy #Volcano #Volcanoes #Landsat #Science #BobRoss\", 'text_lang': 'en', 'text_tagged_users': None, 'text_tags': ['bobross', 'earth', 'earthviews', 'italy', 'landsat', 'nasa', 'satelliteimagery', 'science', 'volcano', 'volcanoes'], 'timestamp': 1641947664, 'video_plays_count': None, 'video_views_count': None}, {'attached_carousel_media_urls': None, 'attached_media_content': None, 'attached_media_display_url': 'https://instagram.flwo4-1.fna.fbcdn.net/v/t51.2885-15/271850569_354728949404695_8135767059917373371_n.jpg?stp=dst-jpg_e15&_nc_ht=instagram.flwo4-1.fna.fbcdn.net&_nc_cat=107&_nc_ohc=Rqk-weJOZi8AX9n8nV-&edm=APU89FABAAAA&ccb=7-4&oh=00_AT-T3goVMlLB5hT6QjSn166fZ8z9Th_x3T6T1XrXHVZbdA&oe=6284BFD6&_nc_sid=86f79a', 'attached_media_tagged_users': None, 'attached_video_url': None, 'coauthor_producers': None, 'comments_count': 3366, 'created_time': '2022-01-12T22:14:18', 'id': '2749832984858571118', 'is_comments_disabled': False, 'is_video': False, 'like_and_view_counts_disabled': None, 'likes_count': 1357608, 'location_id': None, 'owner_id': '528817151', 'owner_username': None, 'product_type': None, 'related_posts': None, 'shortcode': 'CYpXofOJbFu', 'sponsors': None, 'text': \"👀 Our orbiting X-ray eyes are ready to look into the universe!\\n\\nLast month, our Imaging X-ray Polarimetry Explorer (IXPE) launched into space to observe some of the hottest, most energetic objects in the cosmos. IXPE will measure X-ray polarization, a property of light that will help us study the spin of supermassive black holes and the magnetic fields around powerful pulsars.\\n\\nOn Jan. 11, IXPE began observing its first official scientific target: Cassiopeia A, the remains of a massive star that exploded (from Earth's perspective) about 350 years ago. This image shows Cassiopeia A as seen by @NASAChandraXRay, another one of our orbiting observatories that's helping us unravel the mysteries of outer space.\\n\\nCredit:NASA/CXC/SAO\\n\\n#NASA #Space #IXPE #Cassiopeia #Astrophotography #ChandraXRay\", 'text_lang': 'en', 'text_tagged_users': ['nasachandraxray'], 'text_tags': ['astrophotography', 'cassiopeia', 'chandraxray', 'ixpe', 'nasa', 'space'], 'timestamp': 1642025658, 'video_plays_count': None, 'video_views_count': None}, {'attached_carousel_media_urls': None, 'attached_media_content': None, 'attached_media_display_url': 'https://instagram.flwo4-1.fna.fbcdn.net/v/t51.2885-15/271822651_1353544075066379_1822757774542325836_n.jpg?stp=dst-jpg_e35&_nc_ht=instagram.flwo4-1.fna.fbcdn.net&_nc_cat=111&_nc_ohc=qf56Kuamrw8AX8sa05L&edm=APU89FABAAAA&ccb=7-4&oh=00_AT_8CrKUQO7-mCvV1RgRlUYkDZbCJgPrpCF8fQ2Fe1rx8g&oe=627F0FD8&_nc_sid=86f79a', 'attached_media_tagged_users': None, 'attached_video_url': 'https://instagram.flwo4-2.fna.fbcdn.net/v/t50.16885-16/271681648_457569692510892_2947559579473473181_n.mp4?efg=eyJ2ZW5jb2RlX3RhZyI6InZ0c192b2RfdXJsZ2VuLjcyMC5pZ3R2LmJhc2VsaW5lIiwicWVfZ3JvdXBzIjoiW1wiaWdfd2ViX2RlbGl2ZXJ5X3Z0c19vdGZcIl0ifQ&_nc_ht=instagram.flwo4-2.fna.fbcdn.net&_nc_cat=100&_nc_ohc=Isc25qx2WhkAX87i32x&edm=APU89FABAAAA&vs=239024658405884_700083468&_nc_vs=HBksFQAYJEdIQ0lNUkNzYXZzX0tLQUJBSjN1MEJqUzFlY29idlZCQUFBRhUAAsgBABUAGCRHR0JVTGhEU0tRTkFYd2NFQU5MbW1HLVJrS3BGYnZWQkFBQUYVAgLIAQAoABgAGwGIB3VzZV9vaWwBMRUAACbkq5KL2I7lPxUCKAJDMywXQCQzMzMzMzMYEmRhc2hfYmFzZWxpbmVfMV92MREAdewHAA%3D%3D&_nc_rid=e0ba1ddcfc&ccb=7-4&oe=627F4E16&oh=00_AT8L2cM4IR5NMDYpAHUszx8P7FChK2p6DqTIR74AH-1gug&_nc_sid=86f79a', 'coauthor_producers': None, 'comments_count': 6198, 'created_time': '2022-01-13T22:51:59', 'id': '2750575528627062502', 'is_comments_disabled': False, 'is_video': True, 'like_and_view_counts_disabled': None, 'likes_count': 736713, 'location_id': None, 'owner_id': '528817151', 'owner_username': None, 'product_type': 'igtv', 'related_posts': None, 'shortcode': 'CYsAd6_ssbm', 'sponsors': None, 'text': 'We need to talk climate.\\r \\rWith records as early as 1880, we have been working together with @NOAA to track Earth’s global temperature as part of our work monitoring climate change. This year contributed to an unprecedented, but well-understood trend in which the last eight years have been the warmest ever recorded.\\r \\r2021 was tied for the sixth warmest year since our records began.\\r \\rThis can be correlated to human activities, like burning fossil fuels which adds to greenhouse gasses, such as carbon dioxide to the atmosphere where they trap more heat.  Since about 1850, humans have raised atmospheric CO2 by nearly 50%.\\r \\rOur climate is driven by heat and the energy it carries, influencing our weather, droughts, intense tropical cyclones and more. In 2021, Earth saw several extreme examples of how excess heat in the ocean and atmosphere can influence often devastating, sometimes unexpected, disasters in different parts of the world. \\r \\rNormal temperatures are shown in white. Higher than normal temperatures are shown in red and lower than normal temperatures are shown in blue. Normal temperatures are calculated over the 30 year baseline period 1951-1980.\\r \\rCredit: NASA/Lori Perkins\\r\\r#NASA #NASAEarth #Climate #ClimateChange #Earth #EarthScience #Temperature #Science', 'text_lang': 'en', 'text_tagged_users': ['noaa'], 'text_tags': ['climate', 'climatechange', 'earth', 'earthscience', 'nasa', 'nasaearth', 'science', 'temperature'], 'timestamp': 1642114319, 'video_plays_count': None, 'video_views_count': 5690556}, {'attached_carousel_media_urls': None, 'attached_media_content': None, 'attached_media_display_url': 'https://instagram.flwo4-1.fna.fbcdn.net/v/t51.2885-15/270213351_968327367126173_8105164016607064613_n.jpg?stp=dst-jpg_e35&_nc_ht=instagram.flwo4-1.fna.fbcdn.net&_nc_cat=105&_nc_ohc=7n9hQ7le60YAX-Ysywi&edm=APU89FABAAAA&ccb=7-4&oh=00_AT-Oai3-Q4NTnUVdLV6hX0DNKFxmHcRk0uCCGw0cbWYTPw&oe=628406CD&_nc_sid=86f79a', 'attached_media_tagged_users': ['nasaearth'], 'attached_video_url': None, 'coauthor_producers': None, 'comments_count': 1543, 'created_time': '2022-01-14T18:23:40', 'id': '2751166421377531467', 'is_comments_disabled': False, 'is_video': False, 'like_and_view_counts_disabled': None, 'likes_count': 635612, 'location_id': None, 'owner_id': '528817151', 'owner_username': None, 'product_type': None, 'related_posts': None, 'shortcode': 'CYuG0iwML5L', 'sponsors': ['nasaearth'], 'text': \"🟥🟧🟨🟩🟦🟪 Gorgeous gorgeous swirls love tropical rivers.\\n\\nThis color-enhanced view of an estuary in Western Australia shows rich sediment and vibrant nutrient patterns. Taken by Earth-observing satellite Landsat 8, portions of the image were separately enhanced and reassembled to show contrast.\\n \\nSpanning nearly 50 years, the joint NASA-@USGS Landsat program provides the longest continuous space-based record of Earth's surface. These observations help people manage vital natural resources and understand our changing planet. The newest satellite, Landsat 9, launched Sept. 27, 2021, will provide essential information about crop health, irrigation use, water quality, urban expansion, and more. \\n\\nCredit: NASA/USGS Landsat; Geoscience Australia \\n\\n#Landsat #Earth #Australia #Colors #EarthViews #Nature #Contrast #Views #TheColorsDukeTheColors #NASA\", 'text_lang': 'en', 'text_tagged_users': ['usgs'], 'text_tags': ['australia', 'colors', 'contrast', 'earth', 'earthviews', 'landsat', 'nasa', 'nature', 'thecolorsdukethecolors', 'views'], 'timestamp': 1642184620, 'video_plays_count': None, 'video_views_count': None}, {'attached_carousel_media_urls': None, 'attached_media_content': None, 'attached_media_display_url': 'https://instagram.flwo4-2.fna.fbcdn.net/v/t51.2885-15/271956639_235334732116890_896533338758037036_n.jpg?stp=dst-jpg_e35_s1080x1080&_nc_ht=instagram.flwo4-2.fna.fbcdn.net&_nc_cat=106&_nc_ohc=w_p6VIyV9x0AX_ir1qW&edm=APU89FABAAAA&ccb=7-4&oh=00_AT-CKGpcdxh0_GMFZgR3q68M4W5mHhI0zLNISsnVsnQrOw&oe=6284CB0D&_nc_sid=86f79a', 'attached_media_tagged_users': None, 'attached_video_url': None, 'coauthor_producers': None, 'comments_count': 1789, 'created_time': '2022-01-15T23:51:09', 'id': '2752056061952623248', 'is_comments_disabled': False, 'is_video': False, 'like_and_view_counts_disabled': None, 'likes_count': 739431, 'location_id': None, 'owner_id': '528817151', 'owner_username': None, 'product_type': None, 'related_posts': None, 'shortcode': 'CYxRGhGpYKQ', 'sponsors': None, 'text': 'Above a sea of lights ✨\\r\\rThe Nile Delta sets the scene as the International Space Station (@ISS) floats 250 miles (402 km) above Earth.\\r\\rAfter living on the orbiting lab for 197 days, on Nov. 8, 2021, the four astronauts of #Crew2 boarded the SpaceX Crew Dragon Endeavour to return to Earth. Before closing out their expedition they took a rendezvous around the ISS.\\r\\rNASA commander @Astro_Kimbrough and pilot @Astro.Megan monitored data as @EuropeanSpaceAgency mission specialist @Thom_Astro captured photos of the International Space Station during the first ever “fly around” of the complex from inside a commercial Crew Dragon. Joined by @JAXAjp astronaut Akihiko Hoshide, the crew successfully splashed down at 10:33 p.m. ET, breaking the record for the longest spaceflight by a U.S.-crewed spacecraft and marked the end of the second crew rotation mission.\\r\\rCredit: NASA/European Space Agency/Thomas Pesquet\\r\\r#NASA #InternationalSpaceStation #ISS #Egypt #Space #Photography', 'text_lang': 'en', 'text_tagged_users': ['astro.megan', 'astro_kimbrough', 'europeanspaceagency', 'iss', 'jaxajp', 'thom_astro'], 'text_tags': ['crew2', 'egypt', 'internationalspacestation', 'iss', 'nasa', 'photography', 'space'], 'timestamp': 1642290669, 'video_plays_count': None, 'video_views_count': None}, {'attached_carousel_media_urls': None, 'attached_media_content': None, 'attached_media_display_url': 'https://instagram.flwo4-2.fna.fbcdn.net/v/t51.2885-15/272014129_925924241423972_9086814338653058468_n.jpg?stp=dst-jpg_e35_s1080x1080&_nc_ht=instagram.flwo4-2.fna.fbcdn.net&_nc_cat=108&_nc_ohc=9wIgbG3bJtYAX9vJW7u&edm=APU89FABAAAA&ccb=7-4&oh=00_AT-IXamZA1qFdd-koyj-n9b4GEseEXctoGlZe8PHg1F7Rg&oe=6283C31D&_nc_sid=86f79a', 'attached_media_tagged_users': None, 'attached_video_url': None, 'coauthor_producers': None, 'comments_count': 4436, 'created_time': '2022-01-17T01:10:46', 'id': '2752820869221269019', 'is_comments_disabled': False, 'is_video': False, 'like_and_view_counts_disabled': None, 'likes_count': 1294107, 'location_id': None, 'owner_id': '528817151', 'owner_username': None, 'product_type': None, 'related_posts': None, 'shortcode': 'CYz-_7YNz4b', 'sponsors': None, 'text': 'Set your quasars to STUNNING.💜💙\\n\\nAstronomers using @NASAHubble recently discovered two quasars that look to be merging into a single object. Astronomers believe that the quasars, which are beacons of light believed to be powered by supermassive black holes, are the cores of two massive colliding galaxies. The quasars in this illustration are only about 10,000 light-years apart, and when their galaxies merge, they will create an even more massive black hole. \\n\\nQuasars play an important role in galaxy formation. By studying these two quasars, scientists can test ideas of how galaxies and black holes develop together.\\n\\nCredits: NASA, ESA, and J. Olmsted (STScI)\\n\\n#NASA #Universe #Hubble #Galaxy #Astronomy #BlackHole #Quasar #Science- #Space #Stunning', 'text_lang': 'en', 'text_tagged_users': ['nasahubble'], 'text_tags': ['astronomy', 'blackhole', 'galaxy', 'hubble', 'nasa', 'quasar', 'science', 'space', 'stunning', 'universe'], 'timestamp': 1642381846, 'video_plays_count': None, 'video_views_count': None}, {'attached_carousel_media_urls': None, 'attached_media_content': None, 'attached_media_display_url': 'https://instagram.flwo4-2.fna.fbcdn.net/v/t51.2885-15/272151597_652179585824751_6581707856551467909_n.jpg?stp=dst-jpg_e35_p1080x1080&_nc_ht=instagram.flwo4-2.fna.fbcdn.net&_nc_cat=103&_nc_ohc=4ax6sQZgyMwAX_gvwgU&edm=APU89FABAAAA&ccb=7-4&oh=00_AT-kPe1MIED4p9MDNVykBf2L4bZmY94rxkDFI5PYsgR9Zg&oe=628392A1&_nc_sid=86f79a', 'attached_media_tagged_users': None, 'attached_video_url': None, 'coauthor_producers': None, 'comments_count': 7261, 'created_time': '2022-01-19T00:53:10', 'id': '2754261600808822155', 'is_comments_disabled': False, 'is_video': False, 'like_and_view_counts_disabled': None, 'likes_count': 1893226, 'location_id': None, 'owner_id': '528817151', 'owner_username': None, 'product_type': None, 'related_posts': None, 'shortcode': 'CY5GlVOtWWL', 'sponsors': None, 'text': \"🌊 Oceans on other worlds?\\r\\rDid you know Saturn's moon Enceladus hides an ocean beneath its icy crust? Water interacting with rock on the sea floor could potentially yield chemical reactions that would make the ingredients for life possible. About as wide as Arizona, Enceladus also has the most reflective surface in the solar system.\\r \\rOn Oct. 9, 2008, just after coming within 25 kilometers (15.6 miles) of the surface of Enceladus, the Cassini spacecraft captured this stunning mosaic as the probe sped away from this intriguing moon of Saturn.\\r \\rCredit: NASA/JPL-Caltech/Space Science Institute\\r \\r#Enceladus #Saturn #Moons #Blues #SolarSystem #Space #Science #Astronomy #NASA\", 'text_lang': 'en', 'text_tagged_users': None, 'text_tags': ['astronomy', 'blues', 'enceladus', 'moons', 'nasa', 'saturn', 'science', 'solarsystem', 'space'], 'timestamp': 1642553590, 'video_plays_count': None, 'video_views_count': None}, {'attached_carousel_media_urls': None, 'attached_media_content': None, 'attached_media_display_url': 'https://instagram.flwo4-2.fna.fbcdn.net/v/t51.2885-15/272058255_238322725149230_5251250392247825346_n.jpg?stp=dst-jpg_e35_s1080x1080&_nc_ht=instagram.flwo4-2.fna.fbcdn.net&_nc_cat=102&_nc_ohc=3EkKjydXzgEAX9wh5jP&edm=APU89FABAAAA&ccb=7-4&oh=00_AT9AAnyvinRf4Ke631O6BbjxPJzcuiepSRMWG7JQNu0X4g&oe=62838310&_nc_sid=86f79a', 'attached_media_tagged_users': None, 'attached_video_url': None, 'coauthor_producers': None, 'comments_count': 3180, 'created_time': '2022-01-19T23:38:46', 'id': '2754948933022513124', 'is_comments_disabled': False, 'is_video': False, 'like_and_view_counts_disabled': None, 'likes_count': 902555, 'location_id': None, 'owner_id': '528817151', 'owner_username': None, 'product_type': None, 'related_posts': None, 'shortcode': 'CY7i3VPJffk', 'sponsors': None, 'text': 'This planet is juuuust right. 🥣\\r\\rEarth is the only planet that we know of that has life, and it lies in what astronomers call the \"circumstellar habitable zone,\" colloquially known as the Goldilocks zone.\\r\\rIt’s called the Goldilocks zone because the planet\\'s distance to the Sun makes surface temperatures neither too hot nor too cold for there to be liquid water on its surface. Water is a necessary ingredient for life as we know it. \\r\\rWith information from ground-based and space telescopes (soon to include @NASAWebb), astronomers continue the search for Goldilocks planets around other stars.\\r\\rThe photo above was taken from the International Space Station (@iss) and it shows the glow of Earth’s atmosphere above the clouds, liquid ocean and cities below.\\r\\rCredit: NASA\\r\\r#NASA #Earth #Space #Exploration #Universe #Stars #Planets #Exoplanets', 'text_lang': 'en', 'text_tagged_users': ['iss', 'nasawebb'], 'text_tags': ['earth', 'exoplanets', 'exploration', 'nasa', 'planets', 'space', 'stars', 'universe'], 'timestamp': 1642635526, 'video_plays_count': None, 'video_views_count': None}, {'attached_carousel_media_urls': None, 'attached_media_content': None, 'attached_media_display_url': 'https://instagram.flwo4-2.fna.fbcdn.net/v/t51.2885-15/272183689_3335612903375106_3903047674473787114_n.jpg?stp=dst-jpg_e35&_nc_ht=instagram.flwo4-2.fna.fbcdn.net&_nc_cat=106&_nc_ohc=M_XAVKqQ5bQAX8iPK_G&edm=APU89FABAAAA&ccb=7-4&oh=00_AT_mZ4nif6URPMd_cYI5WEVL7v0ZiLCdIsAZiJIcYUQVIA&oe=627F12AC&_nc_sid=86f79a', 'attached_media_tagged_users': None, 'attached_video_url': None, 'coauthor_producers': None, 'comments_count': 4355, 'created_time': '2022-01-20T21:58:33', 'id': '2755623265863266556', 'is_comments_disabled': False, 'is_video': False, 'like_and_view_counts_disabled': None, 'likes_count': 1169268, 'location_id': None, 'owner_id': '528817151', 'owner_username': None, 'product_type': None, 'related_posts': None, 'shortcode': 'CY98MKolPD8', 'sponsors': None, 'text': 'Main character energy 🔥\\r\\rThe Sun emitted a mid-level solar flare this morning, peaking at around 1:01 am EST (06:01 UTC). Our Solar Dynamics Observatory (SDO), which observes the sun constantly, captured these images of the event. \\r\\rSolar flares are powerful bursts of energy. They usually take place in active regions, which are areas on the Sun marked by the strong presence of magnetic fields. As these magnetic fields evolve, they can reach a point of instability and release energy in many forms, including electromagnetic radiation, which is what is observed as solar flares. Flares and solar eruptions can impact radio communications, electric power grids, navigation signals, and pose risks to spacecrafts and astronauts. \\r\\rIn true main character fashion, we treat the Sun as if our world revolves around it! SDO observes the Sun and our space environment constantly with a fleet of spacecraft that study everything from the Sun’s activity to the solar atmosphere, to the particles and magnetic fields in the space surrounding Earth. \\r\\rCredit: NASA/SDO\\r\\r#NASA #Sun #Solar #SolarSystem #ActingOut #SunDay #SolarFlare', 'text_lang': 'en', 'text_tagged_users': None, 'text_tags': ['actingout', 'nasa', 'solar', 'solarflare', 'solarsystem', 'sun', 'sunday'], 'timestamp': 1642715913, 'video_plays_count': None, 'video_views_count': None}, {'attached_carousel_media_urls': None, 'attached_media_content': None, 'attached_media_display_url': 'https://instagram.flwo4-2.fna.fbcdn.net/v/t51.2885-15/272222855_402532578289694_7417895259131803186_n.jpg?stp=dst-jpg_e35&_nc_ht=instagram.flwo4-2.fna.fbcdn.net&_nc_cat=102&_nc_ohc=zXr2FD7qVuoAX_kAeoB&edm=APU89FABAAAA&ccb=7-4&oh=00_AT-Jr-gEMSoYjJ_MVoZF8NTGVm3vhk9EmuUrrgePoOsg1g&oe=628357C5&_nc_sid=86f79a', 'attached_media_tagged_users': None, 'attached_video_url': None, 'coauthor_producers': None, 'comments_count': 2717, 'created_time': '2022-01-21T20:55:01', 'id': '2756316060891571947', 'is_comments_disabled': False, 'is_video': False, 'like_and_view_counts_disabled': None, 'likes_count': 857366, 'location_id': None, 'owner_id': '528817151', 'owner_username': None, 'product_type': None, 'related_posts': None, 'shortcode': 'CZAZtqSJWbr', 'sponsors': None, 'text': \"Set sail on a cosmic sailboat ⛵\\r\\rIn the constellation Vela, about 115 million light-years from Earth, lies this galaxy captured by @NASAHubble. The outer edges of the galaxy almost resemble a ship’s sails blowing in a gentle breeze. \\r\\rThe galaxy's appearance is just a splash of the nautical theme that carries throughout its constellation. Vela was originally part of a far larger constellation, Argo Navis, which is named after a fabled ship Argo from Greek mythology, but the constellation proved to be too large to study. Argo Navis was split into three chunks, each named after a part of the Argo ship: Carina (the keel), Puppis (the stern) and Vela (the sails). \\r\\rCredit: @EuropeanSpaceAgency/Hubble & NASA, European Southern Observatory (ESO), R. J. Foley; Acknowledgment: R. Colombari\\r\\r#NASA #Hubble #SpaceTelescope #Stars #Cosmic #Astronomy #SeasTheDay\", 'text_lang': 'en', 'text_tagged_users': ['europeanspaceagency', 'nasahubble.'], 'text_tags': ['astronomy', 'cosmic', 'hubble', 'nasa', 'seastheday', 'spacetelescope', 'stars'], 'timestamp': 1642798501, 'video_plays_count': None, 'video_views_count': None}, {'attached_carousel_media_urls': None, 'attached_media_content': None, 'attached_media_display_url': 'https://instagram.flwo4-2.fna.fbcdn.net/v/t51.2885-15/272624269_162314869472112_5981327666271849329_n.jpg?stp=dst-jpg_e35_s1080x1080&_nc_ht=instagram.flwo4-2.fna.fbcdn.net&_nc_cat=100&_nc_ohc=GnYSQxmE4S8AX_PD_6J&edm=APU89FABAAAA&ccb=7-4&oh=00_AT_o2uWndawovMwHIrV8n14gb-ml8bFP6Le4FsBZ2G9sgQ&oe=6284746A&_nc_sid=86f79a', 'attached_media_tagged_users': None, 'attached_video_url': None, 'coauthor_producers': None, 'comments_count': 3743, 'created_time': '2022-01-24T23:04:36', 'id': '2758555563577722620', 'is_comments_disabled': False, 'is_video': False, 'like_and_view_counts_disabled': None, 'likes_count': 649841, 'location_id': None, 'owner_id': '528817151', 'owner_username': None, 'product_type': None, 'related_posts': None, 'shortcode': 'CZIW6tsOkb8', 'sponsors': None, 'text': \"💫 Welcome to your new home, @NASAWebb.\\n\\nOn Jan. 24, the James Webb Space Telescope arrived at its final destination about 1 million miles, or 1.5 million kilometers, from Earth. For its entire mission, Webb will orbit at what’s called Lagrange point 2 (L2), a point in space that balances the gravitational pull of Earth and the Sun. Orbiting the Sun in line with Earth at L2 keeps the telescope's instruments super cold and allows it to observe the sky at any moment.\\n\\nAt 2 p.m. EST (19:00 UTC), teams on Earth commanded Webb to fire its onboard thrusters for nearly five minutes to complete the final course correction burn. This allowed the spacecraft to park itself into L2.\\n\\nNow that Webb’s primary mirror segments and secondary mirrors have been deployed, engineers will begin the sophisticated three-month process of aligning the telescope’s optics to nearly microscopic precision, with some movements as small as 10 nanometers — only one-ten thousandth the width of a human hair. From now until about June 2022, Webb will calibrate its instruments and continue to cool down so it can #UnfoldTheUniverse. \\n\\nWhat do you think Webb will discover?\\n \\nCredit: NASA/Chris Gunn \\n\\n#HomeOnLagrange #JWST #JamesWebbSpaceTelescope #Space #Universe #Cosmos #SolarSystem #Spacecraft #NASA\", 'text_lang': 'en', 'text_tagged_users': ['nasawebb.'], 'text_tags': ['cosmos', 'homeonlagrange', 'jameswebbspacetelescope', 'jwst', 'nasa', 'solarsystem', 'space', 'spacecraft', 'unfoldtheuniverse', 'universe'], 'timestamp': 1643065476, 'video_plays_count': None, 'video_views_count': None}, {'attached_carousel_media_urls': None, 'attached_media_content': None, 'attached_media_display_url': 'https://instagram.flwo4-1.fna.fbcdn.net/v/t51.2885-15/272583265_1336896200065077_4764968212608271034_n.jpg?stp=dst-jpg_e35_s1080x1080&_nc_ht=instagram.flwo4-1.fna.fbcdn.net&_nc_cat=109&_nc_ohc=S9s7nlnffssAX8RHTzh&edm=APU89FABAAAA&ccb=7-4&oh=00_AT8wGOQVVDdi0M91Kb37irS_uNmGoHMYPQRyM7FiuTVcAg&oe=6283995B&_nc_sid=86f79a', 'attached_media_tagged_users': None, 'attached_video_url': None, 'coauthor_producers': None, 'comments_count': 2599, 'created_time': '2022-01-26T01:30:26', 'id': '2759353790983650730', 'is_comments_disabled': False, 'is_video': False, 'like_and_view_counts_disabled': None, 'likes_count': 940171, 'location_id': None, 'owner_id': '528817151', 'owner_username': None, 'product_type': None, 'related_posts': None, 'shortcode': 'CZLMac5NT2q', 'sponsors': None, 'text': '🌬💨✈️ Quiet supersonic flight? We’re working on it.\\r\\rThis first image shows a scale model of our X-59 Quiet SuperSonic Technology (QueSST) experimental aircraft during a recent sonic boom test inside a wind tunnel at our @NASAGlenn Research Center in Ohio. \\r\\rUsing a photographic process called “schlieren,” it shows the flow of air around a scale aircraft model, as well as the shock waves and their positions. @NASAAero engineers have been testing the QueSST technology to make quiet supersonic flight a reality, letting future travelers get to their destinations faster. \\r\\rCurrently, supersonic flight over communities is prohibited because sonic booms can be disruptive. Aeronautics researchers are trying to reduce the impact of a sonic boom by replacing it with a light “thump.” The sonic boom test was one of the final wind tunnel evaluations this year, and an important step as NASA and Lockheed Martin prepare the X-59 for its inaugural test flight this year. \\r\\n\\nCredit: NASA \\n\\r#Boom #Schlieren #Photography #WindTunnels #Aviation ##Aero #Aeronautics #Engineering #SonicBoom #NASA #Supasonic', 'text_lang': 'en', 'text_tagged_users': ['nasaaero', 'nasaglenn'], 'text_tags': ['aero', 'aeronautics', 'aviation', 'boom', 'engineering', 'nasa', 'photography', 'schlieren', 'sonicboom', 'supasonic', 'windtunnels'], 'timestamp': 1643160626, 'video_plays_count': None, 'video_views_count': None}, {'attached_carousel_media_urls': None, 'attached_media_content': None, 'attached_media_display_url': 'https://instagram.fiev22-2.fna.fbcdn.net/v/t51.2885-15/272763204_1014394979167549_3258764220688850682_n.jpg?stp=dst-jpg_e35&_nc_ht=instagram.fiev22-2.fna.fbcdn.net&_nc_cat=101&_nc_ohc=aL7Mt9TezDoAX9P0h-P&edm=ABfd0MgBAAAA&ccb=7-4&oh=00_AT_l2Gj7ssXOUkdc_1gGYI52U-uequAMyM1r6clNJQglFQ&oe=627F0C3C&_nc_sid=7bff83', 'attached_media_tagged_users': ['nasaastronauts', 'nasajohnson', 'nasakennedy'], 'attached_video_url': 'https://instagram.fiev22-2.fna.fbcdn.net/v/t50.16885-16/10000000_2889369437886458_2924935192032155708_n.mp4?efg=eyJ2ZW5jb2RlX3RhZyI6InZ0c192b2RfdXJsZ2VuLjEyODAuaWd0di5iYXNlbGluZSIsInFlX2dyb3VwcyI6IltcImlnX3dlYl9kZWxpdmVyeV92dHNfb3RmXCJdIn0&_nc_ht=instagram.fiev22-2.fna.fbcdn.net&_nc_cat=102&_nc_ohc=yy1hNIiPwHgAX-dmJ0-&edm=ABfd0MgBAAAA&vs=929306544453054_3907862827&_nc_vs=HBksFQAYJEdJQ1dtQUQ2Vi1pXzNVTUtBRHlZSFdnUGRaY29idlZCQUFBRhUAAsgBABUAGCRHTmdLUFJEYkV5UGxOM2dEQUNBekJJeDdKdEJxYnZWQkFBQUYVAgLIAQAoABgAGwGIB3VzZV9vaWwBMRUAACbC%2Bezq98P7PxUCKAJDMywXQGJN2yLQ5WAYEmRhc2hfYmFzZWxpbmVfMV92MREAdewHAA%3D%3D&_nc_rid=983bf3ecf8&ccb=7-4&oe=627F36BE&oh=00_AT9stUOLPtyQHJfdrh0UrctOiP28ELQG7kyYRilHpviSxQ&_nc_sid=7bff83', 'coauthor_producers': None, 'comments_count': 1786, 'created_time': '2022-01-27T16:41:59', 'id': '2760515444429060783', 'is_comments_disabled': False, 'is_video': True, 'like_and_view_counts_disabled': None, 'likes_count': 236760, 'location_id': None, 'owner_id': '528817151', 'owner_username': None, 'product_type': 'igtv', 'related_posts': None, 'shortcode': 'CZPUiu-LHqv', 'sponsors': ['nasaastronauts', 'nasajohnson', 'nasakennedy'], 'text': 'Every year, we pause to remember the members of the NASA family we have lost in the pursuit of exploration and discovery. This year, our NASA Day of Remembrance falls on Jan. 27, 2022, the 55th anniversary of the Apollo 1 tragedy. Astronauts Roger Chaffee, Gus Grissom, and Ed White perished when a fire engulfed their capsule during a pre-launch test. \\r\\rAs we embark on a new era of space exploration while standing on the shoulders of giants, we remain committed to building a healthy culture of safety, and applying the hard lessons we’ve learned. #NASARemembers:\\r\\rChallenger STS-51L\\r• Greg Jarvis\\r• Christa McAuliffe\\r• Ron McNair\\r• Ellison Onizuka\\r• Judy Resnik\\r• Dick Scobee\\r• Michael Smith\\r\\rColumbia STS-107\\r• Michael Anderson\\r• David Brown\\r• Kalpana Chawla\\r• Laurel Blair Salton Clark\\r• Rick Husband\\r• Willie McCool\\r• Ilan Ramon\\r\\n\\nCredit: NASA\\n\\r##NASARemembers Apollo1 #Columbia #Challenger #Space #Heroes #Astronauts #Remembering #NASA', 'text_lang': 'en', 'text_tagged_users': None, 'text_tags': ['astronauts', 'challenger', 'columbia', 'heroes', 'nasa', 'nasaremembers', 'remembering', 'space'], 'timestamp': 1643301719, 'video_plays_count': None, 'video_views_count': 1660496}, {'attached_carousel_media_urls': None, 'attached_media_content': None, 'attached_media_display_url': 'https://instagram.flwo4-1.fna.fbcdn.net/v/t51.2885-15/272736919_494895562153487_1827056999090012123_n.jpg?stp=dst-jpg_e35_s1080x1080&_nc_ht=instagram.flwo4-1.fna.fbcdn.net&_nc_cat=111&_nc_ohc=fBGps-GAuEcAX-h5ixY&edm=APU89FABAAAA&ccb=7-4&oh=00_AT_fwVpwEwFtws8UYUR-faPm-O57P33xUz16m1Gu82ygHA&oe=6284D06F&_nc_sid=86f79a', 'attached_media_tagged_users': None, 'attached_video_url': None, 'coauthor_producers': None, 'comments_count': 2305, 'created_time': '2022-01-28T22:33:07', 'id': '2761438871935195029', 'is_comments_disabled': False, 'is_video': False, 'like_and_view_counts_disabled': None, 'likes_count': 632140, 'location_id': None, 'owner_id': '528817151', 'owner_username': None, 'product_type': None, 'related_posts': None, 'shortcode': 'CZSmgX2pxeV', 'sponsors': None, 'text': 'All smiles from the best seat in the house 🌎\\r\\r@NASAAstronauts @Astro_Kayla smiles while peering out from inside the cupola, the International Space Station\\'s (@ISS) \"window to the world.\"\\r\\rThe ultimate observation deck has seven windows, six around the sides and one on top, that provide spectacular views of Earth and celestial objects. When not in use, the windows can be shuttered to protect them from micrometeoroids and the harsh space environment. Just under 10 feet in diameter, the module accommodates two crew members for the observation of operations outside the station such as robotic activities, the approach of vehicles and spacewalks.\\r\\rCredit: NASA\\r\\r#NASA #InternationalSpaceStation #ISS #WindowToTheWorld #Smile #Space', 'text_lang': 'en', 'text_tagged_users': ['astro_kayla', 'iss', 'nasaastronauts'], 'text_tags': ['internationalspacestation', 'iss', 'nasa', 'smile', 'space', 'windowtotheworld'], 'timestamp': 1643409187, 'video_plays_count': None, 'video_views_count': None}, {'attached_carousel_media_urls': None, 'attached_media_content': None, 'attached_media_display_url': 'https://instagram.flwo4-1.fna.fbcdn.net/v/t51.2885-15/272823673_684303539245061_8147193785348192832_n.jpg?stp=dst-jpg_e35&_nc_ht=instagram.flwo4-1.fna.fbcdn.net&_nc_cat=105&_nc_ohc=Xo56zX_Wdv8AX9ZWm2K&edm=APU89FABAAAA&ccb=7-4&oh=00_AT-pNiJbaS19oPhlK-w8DirynHeVljCeLU-KxNCZ1gMgtw&oe=62834BA8&_nc_sid=86f79a', 'attached_media_tagged_users': None, 'attached_video_url': None, 'coauthor_producers': None, 'comments_count': 2786, 'created_time': '2022-01-30T01:07:41', 'id': '2762241444866710427', 'is_comments_disabled': False, 'is_video': False, 'like_and_view_counts_disabled': None, 'likes_count': 1041900, 'location_id': None, 'owner_id': '528817151', 'owner_username': None, 'product_type': None, 'related_posts': None, 'shortcode': 'CZVc_WJJFub', 'sponsors': None, 'text': 'And we’re the three best friends that anyone could have. 🌌📸\\r\\rThree galaxies in the constellation Phoenix appear to be colliding in this image captured by @NASAHubble’s Wide Field Camera 3 and its Advanced Camera for Surveys. Although they appear to be crashing into each other rapidly, the one toward the bottom left is quite far away.  Cosmic events like this take millions of years. \\r\\rHubble has been instrumental in broadening our understanding of how galaxies combine with their cosmic neighbors. By observing how galaxies interact, we can learn more about the formation of our universe. \\r\\r#Hubble #NASA #Galaxies #Cosmos #Astronomy #Astrophotography #Universe #space #stars\\r\\rCredit: ESA/Hubble & NASA, J. Dalcanton, Dark Energy Survey, U.S. Department of Energy, Fermilab, Dark Energy Survey Camera, Cerro Tololo Inter-American Observatory, NoirLab/National Science Foundation/AURA, European Southern Observatory; Acknowledgment: J. Schmidt', 'text_lang': 'en', 'text_tagged_users': ['nasahubble'], 'text_tags': ['astronomy', 'astrophotography', 'cosmos', 'galaxies', 'hubble', 'nasa', 'space', 'stars', 'universe'], 'timestamp': 1643504861, 'video_plays_count': None, 'video_views_count': None}, {'attached_carousel_media_urls': None, 'attached_media_content': None, 'attached_media_display_url': 'https://instagram.flwo4-2.fna.fbcdn.net/v/t51.2885-15/272995347_645276139850824_6946692638848883183_n.jpg?stp=dst-jpg_e35_s1080x1080&_nc_ht=instagram.flwo4-2.fna.fbcdn.net&_nc_cat=104&_nc_ohc=iq8zDWurrwcAX_9slFe&edm=APU89FABAAAA&ccb=7-4&oh=00_AT8Zlr6-VQ7pcbxJXIyHw6epbc-NjFaED4eYkckbprdP4Q&oe=628405BB&_nc_sid=86f79a', 'attached_media_tagged_users': None, 'attached_video_url': None, 'coauthor_producers': None, 'comments_count': 3077, 'created_time': '2022-01-31T22:43:29', 'id': '2763618378706585892', 'is_comments_disabled': False, 'is_video': False, 'like_and_view_counts_disabled': None, 'likes_count': 1182472, 'location_id': None, 'owner_id': '528817151', 'owner_username': None, 'product_type': None, 'related_posts': None, 'shortcode': 'CZaWEXtjAkk', 'sponsors': None, 'text': \"Happy Lunar New Year to all those who celebrate 🎇🎆🌑 \\n\\nLunar New Year celebrations continue from the first new Moon of the lunar calendar (which falls on Feb. 1 this year) until the Lantern Festival, on the 15th day of the new lunar year. \\n\\nHere we have a slim crescent moon rising above the Indian Ocean, as seen from the @ISS. Our Moon is not just a pretty face; it also helps regulate Earth's tides, and indirectly moderates our climate. \\n\\nThe leading theory of how our Moon formed is that a Mars-sized object impacted Earth around 4.5 billion years ago, causing a massive chunk of debris to form. The Moon is an average of 238,855 miles (384,400 kilometers) away from Earth; around 30 Earth-sized planets could fit between us and our satellite companion. \\n\\nCredit: NASA\\n\\n#Moon #NASA #LunarNewYear #YearOfTheTiger #Earth #ISS #SpaceStation #MoonPhases #Tet\", 'text_lang': 'en', 'text_tagged_users': ['iss.'], 'text_tags': ['earth', 'iss', 'lunarnewyear', 'moon', 'moonphases', 'nasa', 'spacestation', 'tet', 'yearofthetiger'], 'timestamp': 1643669009, 'video_plays_count': None, 'video_views_count': None}], 'page_info': {'cursor': 'aWRfYXNjfDI3NjM2MTgzNzg3MDY1ODU4OTI=', 'has_next_page': True}}, 'error': None, 'status': 'ok'}\n"
     ]
    }
   ],
   "source": [
    "# Caching profile post \n",
    "import requests\n",
    "\n",
    "profile_id = \"528817151\"\n",
    "api_endpoint = f\"https://api.data365.co/v1.1/instagram/profile/{profile_id}/feed/posts\"\n",
    "access_token = \"ZXlKMGVYQWlPaUpLVjFRaUxDSmhiR2NpT2lKSVV6STFOaUo5LmV5SnpkV0lpT2lKUVpYSnBlbVZ5SWl3aWFXRjBJam94TnpFMk9Ea3pNelV6TGpnMU16azFOeko5LmZoSXFVeGRRWnJJS0ZhRVRGSm9LN1BiUjJBTlpNeUNuTlJiVm5jR04yQm8=\"\n",
    "\n",
    "params = {\n",
    "    \"access_token\": access_token,\n",
    "    \"load_comments\": True,\n",
    "    \"max_comments\": 50,\n",
    "    \"load_replies\": True,\n",
    "    \"load_accessibility_caption\": True,\n",
    "    \"callback_url\": \"https://yourwebhookurl.com\",\n",
    "    \"auto_update_interval\": 3600,\n",
    "    \"auto_update_expire_at\": \"2024-06-30T00:00:00\",\n",
    "}\n",
    "\n",
    "response = requests.get(api_endpoint, params=params)\n",
    "\n",
    "print(response.json())\n",
    "\n",
    "\n",
    "# in result post id is \"id\" or sortcode\n"
   ]
  },
  {
   "cell_type": "code",
   "execution_count": 9,
   "id": "1aca56a1-4ec7-43ae-844b-498150d4b1f3",
   "metadata": {},
   "outputs": [
    {
     "name": "stdout",
     "output_type": "stream",
     "text": [
      "{'data': {'attached_carousel_media_urls': None, 'attached_media_content': ['Photo by NASA on February 04, 2024.'], 'attached_media_display_url': 'https://scontent.cdninstagram.com/v/t51.29350-15/424971962_407070128511211_2337635853866929093_n.jpg?stp=dst-jpg_e35&efg=eyJ2ZW5jb2RlX3RhZyI6ImltYWdlX3VybGdlbi4xNDQweDk2MC5zZHIuZjI5MzUwIn0&_nc_ht=scontent.cdninstagram.com&_nc_cat=1&_nc_ohc=FIcYYJUH4twQ7kNvgFg5zCj&edm=APs17CUBAAAA&ccb=7-5&ig_cache_key=MzI5NTMzOTc4ODAwNDY0MDA1Mw%3D%3D.2-ccb7-5&oh=00_AYDLJLAt-jDc2QG5ZLpS5S6OZcisGNRkDk2N8vw1kKKG7A&oe=6652B174&_nc_sid=10d13b', 'attached_media_tagged_users': None, 'attached_video_url': None, 'coauthor_producers': None, 'comments_count': 3344, 'created_time': '2024-02-04T13:58:56', 'id': '3295339788004640053', 'is_comments_disabled': None, 'is_video': False, 'like_and_view_counts_disabled': None, 'likes_count': 1118090, 'location_id': None, 'owner_id': '528817151', 'owner_username': 'nasa', 'product_type': 'feed', 'related_posts': None, 'shortcode': 'C27ZhPmOkU1', 'sponsors': None, 'text': 'You live your life, you go in shadows 🎶\\u2063\\n\\u2063\\nOur Moon is in its waning crescent phase, where most of the sunlight is illuminating its far side – the side we can’t directly see from Earth. The waning crescent is the last phase before the lunar cycle repeats with a “new moon” phase, where it is completely obscured from Earth’s perspective.\\u2063\\n\\u2063\\nImage description: Seen from the @ISS, the Moon appears partially lit in the upper middle portion of the image. The Earth appears blue with faint white clouds in the atmosphere, stretching from the bottom left to the top right of the image. Black space surrounds the Moon.\\u2063\\n\\u2063\\nCredit: NASA\\u2063\\n\\u2063\\n#Moon #MoonPhase #ISS #NASA #Space', 'text_lang': 'en', 'text_tagged_users': ['iss'], 'text_tags': ['iss', 'moon', 'moonphase', 'nasa', 'space'], 'timestamp': 1707055136, 'video_plays_count': None, 'video_views_count': None}, 'error': None, 'status': 'ok'}\n"
     ]
    }
   ],
   "source": [
    "# Caching post data\n",
    "\n",
    "post_id = \"C27ZhPmOkU1\"\n",
    "api_endpoint = f\"https://api.data365.co/v1.1/instagram/post/{post_id}\"\n",
    "access_token = \"ZXlKMGVYQWlPaUpLVjFRaUxDSmhiR2NpT2lKSVV6STFOaUo5LmV5SnpkV0lpT2lKUVpYSnBlbVZ5SWl3aWFXRjBJam94TnpFMk9Ea3pNelV6TGpnMU16azFOeko5LmZoSXFVeGRRWnJJS0ZhRVRGSm9LN1BiUjJBTlpNeUNuTlJiVm5jR04yQm8=\"\n",
    "\n",
    "params = {\n",
    "    \"access_token\": access_token,\n",
    "    \"load_comments\": True,\n",
    "    \"max_comments\": 50,\n",
    "    \"load_replies\": True,\n",
    "    \"load_accessibility_caption\": True,\n",
    "    \"callback_url\": \"https://yourwebhookurl.com\",\n",
    "    \"auto_update_interval\": 3600,\n",
    "    \"auto_update_expire_at\": \"2024-06-30T00:00:00\",\n",
    "}\n",
    "\n",
    "response = requests.get(api_endpoint, params=params)\n",
    "\n",
    "print(response.json())"
   ]
  },
  {
   "cell_type": "code",
   "execution_count": 10,
   "id": "50858670-76a2-493d-bac5-9c585c4a6983",
   "metadata": {},
   "outputs": [
    {
     "name": "stdout",
     "output_type": "stream",
     "text": [
      "{'data': {'attached_carousel_media_urls': None, 'attached_media_content': ['Photo by NASA on February 04, 2024.'], 'attached_media_display_url': 'https://scontent.cdninstagram.com/v/t51.29350-15/424971962_407070128511211_2337635853866929093_n.jpg?stp=dst-jpg_e35&efg=eyJ2ZW5jb2RlX3RhZyI6ImltYWdlX3VybGdlbi4xNDQweDk2MC5zZHIuZjI5MzUwIn0&_nc_ht=scontent.cdninstagram.com&_nc_cat=1&_nc_ohc=FIcYYJUH4twQ7kNvgFg5zCj&edm=APs17CUBAAAA&ccb=7-5&ig_cache_key=MzI5NTMzOTc4ODAwNDY0MDA1Mw%3D%3D.2-ccb7-5&oh=00_AYDLJLAt-jDc2QG5ZLpS5S6OZcisGNRkDk2N8vw1kKKG7A&oe=6652B174&_nc_sid=10d13b', 'attached_media_tagged_users': None, 'attached_video_url': None, 'coauthor_producers': None, 'comments_count': 3344, 'created_time': '2024-02-04T13:58:56', 'id': '3295339788004640053', 'is_comments_disabled': None, 'is_video': False, 'like_and_view_counts_disabled': None, 'likes_count': 1118090, 'location_id': None, 'owner_id': '528817151', 'owner_username': 'nasa', 'product_type': 'feed', 'related_posts': None, 'shortcode': 'C27ZhPmOkU1', 'sponsors': None, 'text': 'You live your life, you go in shadows 🎶\\u2063\\n\\u2063\\nOur Moon is in its waning crescent phase, where most of the sunlight is illuminating its far side – the side we can’t directly see from Earth. The waning crescent is the last phase before the lunar cycle repeats with a “new moon” phase, where it is completely obscured from Earth’s perspective.\\u2063\\n\\u2063\\nImage description: Seen from the @ISS, the Moon appears partially lit in the upper middle portion of the image. The Earth appears blue with faint white clouds in the atmosphere, stretching from the bottom left to the top right of the image. Black space surrounds the Moon.\\u2063\\n\\u2063\\nCredit: NASA\\u2063\\n\\u2063\\n#Moon #MoonPhase #ISS #NASA #Space', 'text_lang': 'en', 'text_tagged_users': ['iss'], 'text_tags': ['iss', 'moon', 'moonphase', 'nasa', 'space'], 'timestamp': 1707055136, 'video_plays_count': None, 'video_views_count': None}, 'error': None, 'status': 'ok'}\n"
     ]
    }
   ],
   "source": [
    "# Caching post comment\n",
    "\n",
    "import requests\n",
    "\n",
    "post_id = \"C27ZhPmOkU1\"\n",
    "api_endpoint = f\"https://api.data365.co/v1.1/instagram/post/{post_id}\"\n",
    "access_token = \"ZXlKMGVYQWlPaUpLVjFRaUxDSmhiR2NpT2lKSVV6STFOaUo5LmV5SnpkV0lpT2lKUVpYSnBlbVZ5SWl3aWFXRjBJam94TnpFMk9Ea3pNelV6TGpnMU16azFOeko5LmZoSXFVeGRRWnJJS0ZhRVRGSm9LN1BiUjJBTlpNeUNuTlJiVm5jR04yQm8=\"\n",
    "\n",
    "params = {\n",
    "    \"access_token\": access_token,\n",
    "    \"load_comments\": True,\n",
    "    \"max_comments\": 50,\n",
    "    \"load_replies\": True,\n",
    "    \"load_accessibility_caption\": True,\n",
    "    \"from_date\": \"2024-01-01T00:00:00\",  # Example: Filter comments from January 1, 2024, onwards\n",
    "    \"order_by\": \"date_desc\",  # Example: Sort comments by date in descending order\n",
    "    \"max_page_size\": 100,  # Example: Retrieve up to 100 comments per page\n",
    "}\n",
    "\n",
    "response = requests.get(api_endpoint, params=params)\n",
    "\n",
    "print(response.json())"
   ]
  },
  {
   "cell_type": "code",
   "execution_count": 16,
   "id": "4c10e72a-0bf9-48f3-a887-5d3875fa811e",
   "metadata": {},
   "outputs": [
    {
     "name": "stdout",
     "output_type": "stream",
     "text": [
      "<Response [200]>\n"
     ]
    }
   ],
   "source": [
    "# suggested code for getting comment for the specfic post id\n",
    "import requests\n",
    "\n",
    "# Define post ID and API endpoint\n",
    "post_id = \"C27ZhPmOkU1\"\n",
    "api_endpoint = f\"https://api.data365.co/v1.1/instagram/post/{post_id}/comments\"\n",
    "\n",
    "# Define access token and other parameters\n",
    "access_token = \"ZXlKMGVYQWlPaUpLVjFRaUxDSmhiR2NpT2lKSVV6STFOaUo5LmV5SnpkV0lpT2lKUVpYSnBlbVZ5SWl3aWFXRjBJam94TnpFMk9Ea3pNelV6TGpnMU16azFOeko5LmZoSXFVeGRRWnJJS0ZhRVRGSm9LN1BiUjJBTlpNeUNuTlJiVm5jR04yQm8=\"\n",
    "\n",
    "params = {\n",
    "    \"access_token\": access_token,\n",
    "    \"from_date\": \"2024-01-01T00:00:00\",  # Filter comments from a specific date if needed\n",
    "    \"order_by\": \"date_desc\",  # Sort comments by date in descending order\n",
    "    \"max_page_size\": 50,  # Maximum number of comments to retrieve per page\n",
    "}\n",
    "\n",
    "# Make a GET request to fetch comments\n",
    "response = requests.get(api_endpoint, params=params)\n",
    "\n",
    "print(response.json())"
   ]
  },
  {
   "cell_type": "code",
   "execution_count": 8,
   "id": "f9a51555-199b-475a-af1d-dda7bfdff39f",
   "metadata": {},
   "outputs": [],
   "source": [
    "# suggested - retriving all comments for perticular post id\n",
    "import requests\n",
    "from datetime import datetime\n",
    "\n",
    "# Define post ID and API endpoint\n",
    "post_id = \"C27ZhPmOkU1\"\n",
    "api_endpoint = f\"https://api.data365.co/v1.1/instagram/post/{post_id}/comments\"\n",
    "\n",
    "access_token = \"ZXlKMGVYQWlPaUpLVjFRaUxDSmhiR2NpT2lKSVV6STFOaUo5LmV5SnpkV0lpT2lKUVpYSnBlbVZ5SWl3aWFXRjBJam94TnpFMk9Ea3pNelV6TGpnMU16azFOeko5LmZoSXFVeGRRWnJJS0ZhRVRGSm9LN1BiUjJBTlpNeUNuTlJiVm5jR04yQm8=\"\n",
    "\n",
    "# Get the current date in ISO 8601 format\n",
    "current_date = datetime.now().isoformat()\n",
    "\n",
    "# Define parameters with dynamic from_date\n",
    "params = {\n",
    "    \"access_token\": access_token,\n",
    "    \"from_date\": \"2024-02-04T13:58:56\",  # Filter comments from the post's creation date\n",
    "    \"order_by\": \"date_desc\",  # Sort comments by date in descending order\n",
    "    \"max_page_size\": 50,  # Maximum number of comments to retrieve per page\n",
    "}\n",
    "\n",
    "# List to store all comments\n",
    "all_comments = []\n",
    "\n",
    "try:\n",
    "    # Make initial request to fetch comments\n",
    "    response = requests.get(api_endpoint, params=params)\n",
    "    response.raise_for_status()  # Raise an exception for non-200 status codes\n",
    "\n",
    "    data = response.json()\n",
    "\n",
    "    # Extract comments from the initial response\n",
    "    comments = data['data']['items']\n",
    "    all_comments.extend(comments)\n",
    "\n",
    "    # Check if there are more pages of comments\n",
    "    while data['data']['page_info']['has_next_page']:\n",
    "        # Get cursor for the next page\n",
    "        cursor = data['data']['page_info']['cursor']\n",
    "\n",
    "        # Update params with the cursor for the next page\n",
    "        params['cursor'] = cursor\n",
    "\n",
    "        # Make request for the next page of comments\n",
    "        response = requests.get(api_endpoint, params=params)\n",
    "        response.raise_for_status()  # Raise an exception for non-200 status codes\n",
    "\n",
    "        data = response.json()\n",
    "\n",
    "        # Extract comments from the current page and add to all_comments list\n",
    "        comments = data['data']['items']\n",
    "        all_comments.extend(comments)\n",
    "\n",
    "except requests.RequestException as e:\n",
    "    print(\"Error fetching comments:\", e)\n",
    "\n",
    "except KeyError as e:\n",
    "    print(\"Key error while processing response data:\", e)\n",
    "\n",
    "# Print all comments\n",
    "for comment in all_comments:\n",
    "    print(comment)\n"
   ]
  },
  {
   "cell_type": "code",
   "execution_count": 7,
   "id": "cd4050cf-820b-4395-9cd3-d53be2eb6a13",
   "metadata": {},
   "outputs": [],
   "source": [
    "import requests\n",
    "\n",
    "post_id = \"3295339788004640053\"\n",
    "api_endpoint = f\"https://api.data365.co/v1.1/instagram/post/{post_id}/comments\"\n",
    "access_token = \"ZXlKMGVYQWlPaUpLVjFRaUxDSmhiR2NpT2lKSVV6STFOaUo5LmV5SnpkV0lpT2lKUVpYSnBlbVZ5SWl3aWFXRjBJam94TnpFMk9Ea3pNelV6TGpnMU16azFOeko5LmZoSXFVeGRRWnJJS0ZhRVRGSm9LN1BiUjJBTlpNeUNuTlJiVm5jR04yQm8=\"\n",
    "params = {\n",
    "    \"access_token\": access_token,\n",
    "    \"max_page_size\": 100,  # Fetch up to 100 comments per page\n",
    "}\n",
    "\n",
    "all_comments = []  # To store all comments\n",
    "\n",
    "while True:\n",
    "    response = requests.get(api_endpoint, params=params)\n",
    "    comments_data = response.json()\n",
    "\n",
    "    # Check if 'next' cursor is present in the response\n",
    "    if 'next' in comments_data:\n",
    "        # Append comments from the current page to the list\n",
    "        all_comments.extend(comments_data['data'])\n",
    "        \n",
    "        # Update the cursor for the next page\n",
    "        params['cursor'] = comments_data['next']\n",
    "    else:\n",
    "        # Append comments from the last page and break the loop\n",
    "        all_comments.extend(comments_data['data'])\n",
    "        break\n"
   ]
  },
  {
   "cell_type": "code",
   "execution_count": null,
   "id": "d2b2344e-3d19-4142-908c-c0402bc405d7",
   "metadata": {},
   "outputs": [],
   "source": []
  }
 ],
 "metadata": {
  "kernelspec": {
   "display_name": "Python 3 (ipykernel)",
   "language": "python",
   "name": "python3"
  },
  "language_info": {
   "codemirror_mode": {
    "name": "ipython",
    "version": 3
   },
   "file_extension": ".py",
   "mimetype": "text/x-python",
   "name": "python",
   "nbconvert_exporter": "python",
   "pygments_lexer": "ipython3",
   "version": "3.11.4"
  }
 },
 "nbformat": 4,
 "nbformat_minor": 5
}
